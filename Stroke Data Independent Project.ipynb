{
 "cells": [
  {
   "cell_type": "code",
   "execution_count": 507,
   "id": "e4756909",
   "metadata": {},
   "outputs": [],
   "source": [
    "import pandas as pd"
   ]
  },
  {
   "cell_type": "code",
   "execution_count": 508,
   "id": "7994e802",
   "metadata": {
    "scrolled": true
   },
   "outputs": [
    {
     "data": {
      "text/html": [
       "<div>\n",
       "<style scoped>\n",
       "    .dataframe tbody tr th:only-of-type {\n",
       "        vertical-align: middle;\n",
       "    }\n",
       "\n",
       "    .dataframe tbody tr th {\n",
       "        vertical-align: top;\n",
       "    }\n",
       "\n",
       "    .dataframe thead th {\n",
       "        text-align: right;\n",
       "    }\n",
       "</style>\n",
       "<table border=\"1\" class=\"dataframe\">\n",
       "  <thead>\n",
       "    <tr style=\"text-align: right;\">\n",
       "      <th></th>\n",
       "      <th>id</th>\n",
       "      <th>gender</th>\n",
       "      <th>age</th>\n",
       "      <th>hypertension</th>\n",
       "      <th>heart_disease</th>\n",
       "      <th>ever_married</th>\n",
       "      <th>work_type</th>\n",
       "      <th>Residence_type</th>\n",
       "      <th>avg_glucose_level</th>\n",
       "      <th>bmi</th>\n",
       "      <th>smoking_status</th>\n",
       "      <th>stroke</th>\n",
       "    </tr>\n",
       "  </thead>\n",
       "  <tbody>\n",
       "    <tr>\n",
       "      <th>0</th>\n",
       "      <td>9046</td>\n",
       "      <td>Male</td>\n",
       "      <td>67.0</td>\n",
       "      <td>0</td>\n",
       "      <td>1</td>\n",
       "      <td>Yes</td>\n",
       "      <td>Private</td>\n",
       "      <td>Urban</td>\n",
       "      <td>228.69</td>\n",
       "      <td>36.6</td>\n",
       "      <td>formerly smoked</td>\n",
       "      <td>1</td>\n",
       "    </tr>\n",
       "    <tr>\n",
       "      <th>1</th>\n",
       "      <td>51676</td>\n",
       "      <td>Female</td>\n",
       "      <td>61.0</td>\n",
       "      <td>0</td>\n",
       "      <td>0</td>\n",
       "      <td>Yes</td>\n",
       "      <td>Self-employed</td>\n",
       "      <td>Rural</td>\n",
       "      <td>202.21</td>\n",
       "      <td>NaN</td>\n",
       "      <td>never smoked</td>\n",
       "      <td>1</td>\n",
       "    </tr>\n",
       "    <tr>\n",
       "      <th>2</th>\n",
       "      <td>31112</td>\n",
       "      <td>Male</td>\n",
       "      <td>80.0</td>\n",
       "      <td>0</td>\n",
       "      <td>1</td>\n",
       "      <td>Yes</td>\n",
       "      <td>Private</td>\n",
       "      <td>Rural</td>\n",
       "      <td>105.92</td>\n",
       "      <td>32.5</td>\n",
       "      <td>never smoked</td>\n",
       "      <td>1</td>\n",
       "    </tr>\n",
       "    <tr>\n",
       "      <th>3</th>\n",
       "      <td>60182</td>\n",
       "      <td>Female</td>\n",
       "      <td>49.0</td>\n",
       "      <td>0</td>\n",
       "      <td>0</td>\n",
       "      <td>Yes</td>\n",
       "      <td>Private</td>\n",
       "      <td>Urban</td>\n",
       "      <td>171.23</td>\n",
       "      <td>34.4</td>\n",
       "      <td>smokes</td>\n",
       "      <td>1</td>\n",
       "    </tr>\n",
       "    <tr>\n",
       "      <th>4</th>\n",
       "      <td>1665</td>\n",
       "      <td>Female</td>\n",
       "      <td>79.0</td>\n",
       "      <td>1</td>\n",
       "      <td>0</td>\n",
       "      <td>Yes</td>\n",
       "      <td>Self-employed</td>\n",
       "      <td>Rural</td>\n",
       "      <td>174.12</td>\n",
       "      <td>24.0</td>\n",
       "      <td>never smoked</td>\n",
       "      <td>1</td>\n",
       "    </tr>\n",
       "  </tbody>\n",
       "</table>\n",
       "</div>"
      ],
      "text/plain": [
       "      id  gender   age  hypertension  heart_disease ever_married  \\\n",
       "0   9046    Male  67.0             0              1          Yes   \n",
       "1  51676  Female  61.0             0              0          Yes   \n",
       "2  31112    Male  80.0             0              1          Yes   \n",
       "3  60182  Female  49.0             0              0          Yes   \n",
       "4   1665  Female  79.0             1              0          Yes   \n",
       "\n",
       "       work_type Residence_type  avg_glucose_level   bmi   smoking_status  \\\n",
       "0        Private          Urban             228.69  36.6  formerly smoked   \n",
       "1  Self-employed          Rural             202.21   NaN     never smoked   \n",
       "2        Private          Rural             105.92  32.5     never smoked   \n",
       "3        Private          Urban             171.23  34.4           smokes   \n",
       "4  Self-employed          Rural             174.12  24.0     never smoked   \n",
       "\n",
       "   stroke  \n",
       "0       1  \n",
       "1       1  \n",
       "2       1  \n",
       "3       1  \n",
       "4       1  "
      ]
     },
     "execution_count": 508,
     "metadata": {},
     "output_type": "execute_result"
    }
   ],
   "source": [
    "stroke_data = pd.read_csv('healthcare-dataset-stroke-data.csv')\n",
    "stroke_data.head()"
   ]
  },
  {
   "cell_type": "code",
   "execution_count": 509,
   "id": "c694c4d2",
   "metadata": {},
   "outputs": [],
   "source": [
    "##Drop unecessary ID column\n",
    "column_mapper = 'id'\n",
    "stroke_data = stroke_data.drop(column_mapper, axis=1)"
   ]
  },
  {
   "cell_type": "code",
   "execution_count": 510,
   "id": "1ea5bd22",
   "metadata": {},
   "outputs": [],
   "source": [
    "##Renaming columns: heart_disease, ever_married, work_type, residence_type, avg_glucose_level, smoking_status\n",
    "col_mapper={'heart_disease':'heart disease', 'ever_married':'ever married', 'work_type':'occupation', 'Residence_type':'residence', 'avg_glucose_level':'avg glucose', 'smoking_status':'smoking status', }\n",
    "stroke_data = stroke_data.rename(mapper=col_mapper, axis=1)"
   ]
  },
  {
   "cell_type": "code",
   "execution_count": 512,
   "id": "6dc33865",
   "metadata": {},
   "outputs": [
    {
     "data": {
      "text/html": [
       "<div>\n",
       "<style scoped>\n",
       "    .dataframe tbody tr th:only-of-type {\n",
       "        vertical-align: middle;\n",
       "    }\n",
       "\n",
       "    .dataframe tbody tr th {\n",
       "        vertical-align: top;\n",
       "    }\n",
       "\n",
       "    .dataframe thead th {\n",
       "        text-align: right;\n",
       "    }\n",
       "</style>\n",
       "<table border=\"1\" class=\"dataframe\">\n",
       "  <thead>\n",
       "    <tr style=\"text-align: right;\">\n",
       "      <th></th>\n",
       "      <th>gender</th>\n",
       "      <th>age</th>\n",
       "      <th>hypertension</th>\n",
       "      <th>heart disease</th>\n",
       "      <th>ever married</th>\n",
       "      <th>occupation</th>\n",
       "      <th>residence</th>\n",
       "      <th>avg glucose</th>\n",
       "      <th>bmi</th>\n",
       "      <th>smoking status</th>\n",
       "      <th>stroke</th>\n",
       "    </tr>\n",
       "  </thead>\n",
       "  <tbody>\n",
       "    <tr>\n",
       "      <th>0</th>\n",
       "      <td>Male</td>\n",
       "      <td>67.0</td>\n",
       "      <td>No</td>\n",
       "      <td>Yes</td>\n",
       "      <td>Yes</td>\n",
       "      <td>Private</td>\n",
       "      <td>Urban</td>\n",
       "      <td>228.69</td>\n",
       "      <td>36.6</td>\n",
       "      <td>formerly smoked</td>\n",
       "      <td>Yes</td>\n",
       "    </tr>\n",
       "    <tr>\n",
       "      <th>1</th>\n",
       "      <td>Female</td>\n",
       "      <td>61.0</td>\n",
       "      <td>No</td>\n",
       "      <td>No</td>\n",
       "      <td>Yes</td>\n",
       "      <td>Self-employed</td>\n",
       "      <td>Rural</td>\n",
       "      <td>202.21</td>\n",
       "      <td>NaN</td>\n",
       "      <td>never smoked</td>\n",
       "      <td>Yes</td>\n",
       "    </tr>\n",
       "    <tr>\n",
       "      <th>2</th>\n",
       "      <td>Male</td>\n",
       "      <td>80.0</td>\n",
       "      <td>No</td>\n",
       "      <td>Yes</td>\n",
       "      <td>Yes</td>\n",
       "      <td>Private</td>\n",
       "      <td>Rural</td>\n",
       "      <td>105.92</td>\n",
       "      <td>32.5</td>\n",
       "      <td>never smoked</td>\n",
       "      <td>Yes</td>\n",
       "    </tr>\n",
       "    <tr>\n",
       "      <th>3</th>\n",
       "      <td>Female</td>\n",
       "      <td>49.0</td>\n",
       "      <td>No</td>\n",
       "      <td>No</td>\n",
       "      <td>Yes</td>\n",
       "      <td>Private</td>\n",
       "      <td>Urban</td>\n",
       "      <td>171.23</td>\n",
       "      <td>34.4</td>\n",
       "      <td>smokes</td>\n",
       "      <td>Yes</td>\n",
       "    </tr>\n",
       "    <tr>\n",
       "      <th>4</th>\n",
       "      <td>Female</td>\n",
       "      <td>79.0</td>\n",
       "      <td>Yes</td>\n",
       "      <td>No</td>\n",
       "      <td>Yes</td>\n",
       "      <td>Self-employed</td>\n",
       "      <td>Rural</td>\n",
       "      <td>174.12</td>\n",
       "      <td>24.0</td>\n",
       "      <td>never smoked</td>\n",
       "      <td>Yes</td>\n",
       "    </tr>\n",
       "    <tr>\n",
       "      <th>...</th>\n",
       "      <td>...</td>\n",
       "      <td>...</td>\n",
       "      <td>...</td>\n",
       "      <td>...</td>\n",
       "      <td>...</td>\n",
       "      <td>...</td>\n",
       "      <td>...</td>\n",
       "      <td>...</td>\n",
       "      <td>...</td>\n",
       "      <td>...</td>\n",
       "      <td>...</td>\n",
       "    </tr>\n",
       "    <tr>\n",
       "      <th>5105</th>\n",
       "      <td>Female</td>\n",
       "      <td>80.0</td>\n",
       "      <td>Yes</td>\n",
       "      <td>No</td>\n",
       "      <td>Yes</td>\n",
       "      <td>Private</td>\n",
       "      <td>Urban</td>\n",
       "      <td>83.75</td>\n",
       "      <td>NaN</td>\n",
       "      <td>never smoked</td>\n",
       "      <td>No</td>\n",
       "    </tr>\n",
       "    <tr>\n",
       "      <th>5106</th>\n",
       "      <td>Female</td>\n",
       "      <td>81.0</td>\n",
       "      <td>No</td>\n",
       "      <td>No</td>\n",
       "      <td>Yes</td>\n",
       "      <td>Self-employed</td>\n",
       "      <td>Urban</td>\n",
       "      <td>125.20</td>\n",
       "      <td>40.0</td>\n",
       "      <td>never smoked</td>\n",
       "      <td>No</td>\n",
       "    </tr>\n",
       "    <tr>\n",
       "      <th>5107</th>\n",
       "      <td>Female</td>\n",
       "      <td>35.0</td>\n",
       "      <td>No</td>\n",
       "      <td>No</td>\n",
       "      <td>Yes</td>\n",
       "      <td>Self-employed</td>\n",
       "      <td>Rural</td>\n",
       "      <td>82.99</td>\n",
       "      <td>30.6</td>\n",
       "      <td>never smoked</td>\n",
       "      <td>No</td>\n",
       "    </tr>\n",
       "    <tr>\n",
       "      <th>5108</th>\n",
       "      <td>Male</td>\n",
       "      <td>51.0</td>\n",
       "      <td>No</td>\n",
       "      <td>No</td>\n",
       "      <td>Yes</td>\n",
       "      <td>Private</td>\n",
       "      <td>Rural</td>\n",
       "      <td>166.29</td>\n",
       "      <td>25.6</td>\n",
       "      <td>formerly smoked</td>\n",
       "      <td>No</td>\n",
       "    </tr>\n",
       "    <tr>\n",
       "      <th>5109</th>\n",
       "      <td>Female</td>\n",
       "      <td>44.0</td>\n",
       "      <td>No</td>\n",
       "      <td>No</td>\n",
       "      <td>Yes</td>\n",
       "      <td>Govt_job</td>\n",
       "      <td>Urban</td>\n",
       "      <td>85.28</td>\n",
       "      <td>26.2</td>\n",
       "      <td>Unknown</td>\n",
       "      <td>No</td>\n",
       "    </tr>\n",
       "  </tbody>\n",
       "</table>\n",
       "<p>5110 rows × 11 columns</p>\n",
       "</div>"
      ],
      "text/plain": [
       "      gender   age hypertension heart disease ever married     occupation  \\\n",
       "0       Male  67.0           No           Yes          Yes        Private   \n",
       "1     Female  61.0           No            No          Yes  Self-employed   \n",
       "2       Male  80.0           No           Yes          Yes        Private   \n",
       "3     Female  49.0           No            No          Yes        Private   \n",
       "4     Female  79.0          Yes            No          Yes  Self-employed   \n",
       "...      ...   ...          ...           ...          ...            ...   \n",
       "5105  Female  80.0          Yes            No          Yes        Private   \n",
       "5106  Female  81.0           No            No          Yes  Self-employed   \n",
       "5107  Female  35.0           No            No          Yes  Self-employed   \n",
       "5108    Male  51.0           No            No          Yes        Private   \n",
       "5109  Female  44.0           No            No          Yes       Govt_job   \n",
       "\n",
       "     residence  avg glucose   bmi   smoking status stroke  \n",
       "0        Urban       228.69  36.6  formerly smoked    Yes  \n",
       "1        Rural       202.21   NaN     never smoked    Yes  \n",
       "2        Rural       105.92  32.5     never smoked    Yes  \n",
       "3        Urban       171.23  34.4           smokes    Yes  \n",
       "4        Rural       174.12  24.0     never smoked    Yes  \n",
       "...        ...          ...   ...              ...    ...  \n",
       "5105     Urban        83.75   NaN     never smoked     No  \n",
       "5106     Urban       125.20  40.0     never smoked     No  \n",
       "5107     Rural        82.99  30.6     never smoked     No  \n",
       "5108     Rural       166.29  25.6  formerly smoked     No  \n",
       "5109     Urban        85.28  26.2          Unknown     No  \n",
       "\n",
       "[5110 rows x 11 columns]"
      ]
     },
     "execution_count": 512,
     "metadata": {},
     "output_type": "execute_result"
    }
   ],
   "source": [
    "#Renaming row values so the information is more readable\n",
    "stroke_data = stroke_data.replace({'hypertension': {1: 'Yes', 0: 'No'}})\n",
    "stroke_data = stroke_data.replace({'heart disease': {1: 'Yes', 0: 'No'}})\n",
    "stroke_data = stroke_data.replace({'stroke': {1: 'Yes', 0: 'No'}})\n",
    "\n",
    "stroke_data"
   ]
  },
  {
   "cell_type": "code",
   "execution_count": 513,
   "id": "014931e2",
   "metadata": {
    "scrolled": true
   },
   "outputs": [
    {
     "name": "stdout",
     "output_type": "stream",
     "text": [
      "<class 'pandas.core.frame.DataFrame'>\n",
      "RangeIndex: 5110 entries, 0 to 5109\n",
      "Data columns (total 11 columns):\n",
      " #   Column          Non-Null Count  Dtype  \n",
      "---  ------          --------------  -----  \n",
      " 0   gender          5110 non-null   object \n",
      " 1   age             5110 non-null   float64\n",
      " 2   hypertension    5110 non-null   object \n",
      " 3   heart disease   5110 non-null   object \n",
      " 4   ever married    5110 non-null   object \n",
      " 5   occupation      5110 non-null   object \n",
      " 6   residence       5110 non-null   object \n",
      " 7   avg glucose     5110 non-null   float64\n",
      " 8   bmi             4909 non-null   float64\n",
      " 9   smoking status  5110 non-null   object \n",
      " 10  stroke          5110 non-null   object \n",
      "dtypes: float64(3), object(8)\n",
      "memory usage: 439.3+ KB\n"
     ]
    }
   ],
   "source": [
    "stroke_data.info()"
   ]
  },
  {
   "cell_type": "code",
   "execution_count": 514,
   "id": "66290cec",
   "metadata": {},
   "outputs": [],
   "source": [
    "##Changing data types\n",
    "stroke_data['gender'] = stroke_data['gender'].astype('category')\n",
    "stroke_data['hypertension'] = stroke_data['hypertension'].astype('string')\n",
    "stroke_data['heart disease'] = stroke_data['heart disease'].astype('string')\n",
    "stroke_data['ever married'] = stroke_data['ever married'].astype('category')\n",
    "stroke_data['occupation'] = stroke_data['occupation'].astype('category')\n",
    "stroke_data['residence'] = stroke_data['residence'].astype('category')\n",
    "stroke_data['smoking status'] = stroke_data['smoking status'].astype('category')\n",
    "stroke_data['stroke'] = stroke_data['stroke'].astype('string')\n",
    "##Changeing data type for age and rounding number\n",
    "stroke_data['age'] = stroke_data['age'].round().astype('int64')"
   ]
  },
  {
   "cell_type": "code",
   "execution_count": 515,
   "id": "23a311e8",
   "metadata": {},
   "outputs": [
    {
     "name": "stdout",
     "output_type": "stream",
     "text": [
      "<class 'pandas.core.frame.DataFrame'>\n",
      "RangeIndex: 5110 entries, 0 to 5109\n",
      "Data columns (total 11 columns):\n",
      " #   Column          Non-Null Count  Dtype   \n",
      "---  ------          --------------  -----   \n",
      " 0   gender          5110 non-null   category\n",
      " 1   age             5110 non-null   int64   \n",
      " 2   hypertension    5110 non-null   string  \n",
      " 3   heart disease   5110 non-null   string  \n",
      " 4   ever married    5110 non-null   category\n",
      " 5   occupation      5110 non-null   category\n",
      " 6   residence       5110 non-null   category\n",
      " 7   avg glucose     5110 non-null   float64 \n",
      " 8   bmi             4909 non-null   float64 \n",
      " 9   smoking status  5110 non-null   category\n",
      " 10  stroke          5110 non-null   string  \n",
      "dtypes: category(5), float64(2), int64(1), string(3)\n",
      "memory usage: 265.4 KB\n"
     ]
    }
   ],
   "source": [
    "##Checking work in previous step\n",
    "stroke_data.info()"
   ]
  },
  {
   "cell_type": "code",
   "execution_count": 516,
   "id": "f239a5a3",
   "metadata": {
    "scrolled": false
   },
   "outputs": [
    {
     "data": {
      "text/html": [
       "<div>\n",
       "<style scoped>\n",
       "    .dataframe tbody tr th:only-of-type {\n",
       "        vertical-align: middle;\n",
       "    }\n",
       "\n",
       "    .dataframe tbody tr th {\n",
       "        vertical-align: top;\n",
       "    }\n",
       "\n",
       "    .dataframe thead th {\n",
       "        text-align: right;\n",
       "    }\n",
       "</style>\n",
       "<table border=\"1\" class=\"dataframe\">\n",
       "  <thead>\n",
       "    <tr style=\"text-align: right;\">\n",
       "      <th></th>\n",
       "      <th>gender</th>\n",
       "      <th>age</th>\n",
       "      <th>hypertension</th>\n",
       "      <th>heart disease</th>\n",
       "      <th>ever married</th>\n",
       "      <th>occupation</th>\n",
       "      <th>residence</th>\n",
       "      <th>avg glucose</th>\n",
       "      <th>bmi</th>\n",
       "      <th>smoking status</th>\n",
       "      <th>stroke</th>\n",
       "    </tr>\n",
       "  </thead>\n",
       "  <tbody>\n",
       "    <tr>\n",
       "      <th>0</th>\n",
       "      <td>Male</td>\n",
       "      <td>67</td>\n",
       "      <td>No</td>\n",
       "      <td>Yes</td>\n",
       "      <td>Yes</td>\n",
       "      <td>Private</td>\n",
       "      <td>Urban</td>\n",
       "      <td>228.69</td>\n",
       "      <td>36.6</td>\n",
       "      <td>formerly smoked</td>\n",
       "      <td>Yes</td>\n",
       "    </tr>\n",
       "    <tr>\n",
       "      <th>1</th>\n",
       "      <td>Female</td>\n",
       "      <td>61</td>\n",
       "      <td>No</td>\n",
       "      <td>No</td>\n",
       "      <td>Yes</td>\n",
       "      <td>Self-employed</td>\n",
       "      <td>Rural</td>\n",
       "      <td>202.21</td>\n",
       "      <td>NaN</td>\n",
       "      <td>never smoked</td>\n",
       "      <td>Yes</td>\n",
       "    </tr>\n",
       "    <tr>\n",
       "      <th>2</th>\n",
       "      <td>Male</td>\n",
       "      <td>80</td>\n",
       "      <td>No</td>\n",
       "      <td>Yes</td>\n",
       "      <td>Yes</td>\n",
       "      <td>Private</td>\n",
       "      <td>Rural</td>\n",
       "      <td>105.92</td>\n",
       "      <td>32.5</td>\n",
       "      <td>never smoked</td>\n",
       "      <td>Yes</td>\n",
       "    </tr>\n",
       "    <tr>\n",
       "      <th>3</th>\n",
       "      <td>Female</td>\n",
       "      <td>49</td>\n",
       "      <td>No</td>\n",
       "      <td>No</td>\n",
       "      <td>Yes</td>\n",
       "      <td>Private</td>\n",
       "      <td>Urban</td>\n",
       "      <td>171.23</td>\n",
       "      <td>34.4</td>\n",
       "      <td>smokes</td>\n",
       "      <td>Yes</td>\n",
       "    </tr>\n",
       "    <tr>\n",
       "      <th>4</th>\n",
       "      <td>Female</td>\n",
       "      <td>79</td>\n",
       "      <td>Yes</td>\n",
       "      <td>No</td>\n",
       "      <td>Yes</td>\n",
       "      <td>Self-employed</td>\n",
       "      <td>Rural</td>\n",
       "      <td>174.12</td>\n",
       "      <td>24.0</td>\n",
       "      <td>never smoked</td>\n",
       "      <td>Yes</td>\n",
       "    </tr>\n",
       "  </tbody>\n",
       "</table>\n",
       "</div>"
      ],
      "text/plain": [
       "   gender  age hypertension heart disease ever married     occupation  \\\n",
       "0    Male   67           No           Yes          Yes        Private   \n",
       "1  Female   61           No            No          Yes  Self-employed   \n",
       "2    Male   80           No           Yes          Yes        Private   \n",
       "3  Female   49           No            No          Yes        Private   \n",
       "4  Female   79          Yes            No          Yes  Self-employed   \n",
       "\n",
       "  residence  avg glucose   bmi   smoking status stroke  \n",
       "0     Urban       228.69  36.6  formerly smoked    Yes  \n",
       "1     Rural       202.21   NaN     never smoked    Yes  \n",
       "2     Rural       105.92  32.5     never smoked    Yes  \n",
       "3     Urban       171.23  34.4           smokes    Yes  \n",
       "4     Rural       174.12  24.0     never smoked    Yes  "
      ]
     },
     "execution_count": 516,
     "metadata": {},
     "output_type": "execute_result"
    }
   ],
   "source": [
    "stroke_data.head()"
   ]
  },
  {
   "cell_type": "code",
   "execution_count": 517,
   "id": "79fc599f",
   "metadata": {},
   "outputs": [],
   "source": [
    "##Grouping data by gender and presence of stroke\n",
    "has_stroke = stroke_data['stroke'] == 'Yes'\n",
    "\n",
    "##Male\n",
    "is_male = stroke_data['gender'] == 'Male'\n",
    "male_stroke = stroke_data[has_stroke & is_male]\n",
    "\n",
    "##Female\n",
    "is_female = stroke_data['gender'] == 'Female'\n",
    "female_stroke = stroke_data[has_stroke & is_female]"
   ]
  },
  {
   "cell_type": "code",
   "execution_count": 518,
   "id": "16517d2e",
   "metadata": {},
   "outputs": [
    {
     "name": "stdout",
     "output_type": "stream",
     "text": [
      "       age\n",
      "mean  68.5\n"
     ]
    }
   ],
   "source": [
    "##Calculate the mean age of males who have stroked from dataset\n",
    "male_stroke_age = male_stroke.agg({'age':['mean']})\n",
    "print(male_stroke_age)"
   ]
  },
  {
   "cell_type": "code",
   "execution_count": 519,
   "id": "157e86dd",
   "metadata": {},
   "outputs": [
    {
     "name": "stdout",
     "output_type": "stream",
     "text": [
      "            age\n",
      "mean  67.134752\n"
     ]
    }
   ],
   "source": [
    "##Calculate the mean age of females who have stroked from dataset\n",
    "female_stroke_age = female_stroke.agg({'age':['mean']})\n",
    "print(female_stroke_age)"
   ]
  },
  {
   "cell_type": "code",
   "execution_count": 591,
   "id": "26dfdc74",
   "metadata": {},
   "outputs": [
    {
     "data": {
      "text/plain": [
       "4.9"
      ]
     },
     "execution_count": 591,
     "metadata": {},
     "output_type": "execute_result"
    }
   ],
   "source": [
    "#Calculating percentage of data population that has had a stroke\n",
    "total_stroke_patients = sum(has_stroke)\n",
    "total_patients = 5110\n",
    "\n",
    "percentage_of_stroke = round((total_stroke_patients / total_patients) * 100, 1)\n",
    "percentage_of_stroke"
   ]
  },
  {
   "cell_type": "code",
   "execution_count": 524,
   "id": "9bd4c5a6",
   "metadata": {
    "scrolled": false
   },
   "outputs": [
    {
     "data": {
      "text/html": [
       "<div>\n",
       "<style scoped>\n",
       "    .dataframe tbody tr th:only-of-type {\n",
       "        vertical-align: middle;\n",
       "    }\n",
       "\n",
       "    .dataframe tbody tr th {\n",
       "        vertical-align: top;\n",
       "    }\n",
       "\n",
       "    .dataframe thead th {\n",
       "        text-align: right;\n",
       "    }\n",
       "</style>\n",
       "<table border=\"1\" class=\"dataframe\">\n",
       "  <thead>\n",
       "    <tr style=\"text-align: right;\">\n",
       "      <th></th>\n",
       "      <th>gender</th>\n",
       "      <th>age</th>\n",
       "      <th>hypertension</th>\n",
       "      <th>heart disease</th>\n",
       "      <th>ever married</th>\n",
       "      <th>occupation</th>\n",
       "      <th>residence</th>\n",
       "      <th>avg glucose</th>\n",
       "      <th>bmi</th>\n",
       "      <th>smoking status</th>\n",
       "      <th>stroke</th>\n",
       "    </tr>\n",
       "  </thead>\n",
       "  <tbody>\n",
       "    <tr>\n",
       "      <th>0</th>\n",
       "      <td>Male</td>\n",
       "      <td>67</td>\n",
       "      <td>No</td>\n",
       "      <td>Yes</td>\n",
       "      <td>Yes</td>\n",
       "      <td>Private</td>\n",
       "      <td>Urban</td>\n",
       "      <td>228.69</td>\n",
       "      <td>36.6</td>\n",
       "      <td>formerly smoked</td>\n",
       "      <td>Yes</td>\n",
       "    </tr>\n",
       "    <tr>\n",
       "      <th>1</th>\n",
       "      <td>Female</td>\n",
       "      <td>61</td>\n",
       "      <td>No</td>\n",
       "      <td>No</td>\n",
       "      <td>Yes</td>\n",
       "      <td>Self-employed</td>\n",
       "      <td>Rural</td>\n",
       "      <td>202.21</td>\n",
       "      <td>NaN</td>\n",
       "      <td>never smoked</td>\n",
       "      <td>Yes</td>\n",
       "    </tr>\n",
       "    <tr>\n",
       "      <th>2</th>\n",
       "      <td>Male</td>\n",
       "      <td>80</td>\n",
       "      <td>No</td>\n",
       "      <td>Yes</td>\n",
       "      <td>Yes</td>\n",
       "      <td>Private</td>\n",
       "      <td>Rural</td>\n",
       "      <td>105.92</td>\n",
       "      <td>32.5</td>\n",
       "      <td>never smoked</td>\n",
       "      <td>Yes</td>\n",
       "    </tr>\n",
       "    <tr>\n",
       "      <th>3</th>\n",
       "      <td>Female</td>\n",
       "      <td>49</td>\n",
       "      <td>No</td>\n",
       "      <td>No</td>\n",
       "      <td>Yes</td>\n",
       "      <td>Private</td>\n",
       "      <td>Urban</td>\n",
       "      <td>171.23</td>\n",
       "      <td>34.4</td>\n",
       "      <td>smokes</td>\n",
       "      <td>Yes</td>\n",
       "    </tr>\n",
       "    <tr>\n",
       "      <th>4</th>\n",
       "      <td>Female</td>\n",
       "      <td>79</td>\n",
       "      <td>Yes</td>\n",
       "      <td>No</td>\n",
       "      <td>Yes</td>\n",
       "      <td>Self-employed</td>\n",
       "      <td>Rural</td>\n",
       "      <td>174.12</td>\n",
       "      <td>24.0</td>\n",
       "      <td>never smoked</td>\n",
       "      <td>Yes</td>\n",
       "    </tr>\n",
       "  </tbody>\n",
       "</table>\n",
       "</div>"
      ],
      "text/plain": [
       "   gender  age hypertension heart disease ever married     occupation  \\\n",
       "0    Male   67           No           Yes          Yes        Private   \n",
       "1  Female   61           No            No          Yes  Self-employed   \n",
       "2    Male   80           No           Yes          Yes        Private   \n",
       "3  Female   49           No            No          Yes        Private   \n",
       "4  Female   79          Yes            No          Yes  Self-employed   \n",
       "\n",
       "  residence  avg glucose   bmi   smoking status stroke  \n",
       "0     Urban       228.69  36.6  formerly smoked    Yes  \n",
       "1     Rural       202.21   NaN     never smoked    Yes  \n",
       "2     Rural       105.92  32.5     never smoked    Yes  \n",
       "3     Urban       171.23  34.4           smokes    Yes  \n",
       "4     Rural       174.12  24.0     never smoked    Yes  "
      ]
     },
     "execution_count": 524,
     "metadata": {},
     "output_type": "execute_result"
    }
   ],
   "source": [
    "stroke_data.head()"
   ]
  },
  {
   "cell_type": "code",
   "execution_count": 561,
   "id": "d0c4062e",
   "metadata": {},
   "outputs": [],
   "source": [
    "#What is the biggest risk factor for having a stroke between HTN and heart disease?\n",
    "has_htn = stroke_data['hypertension'] == 'Yes'\n",
    "has_heart_disease = stroke_data['heart disease'] == 'Yes'\n",
    "has_smoked = (stroke_data['smoking status'] == 'formerly smoked') | (stroke_data['smoking status'] == 'smokes')\n",
    "\n",
    "htn_stroke = sum(has_stroke & has_htn)\n",
    "heart_disease_stroke = sum(has_stroke & has_heart_disease)\n",
    "smoking_stroke = sum(has_stroke & has_smoked)\n",
    "trifecta_stroke = sum(has_htn & has_heart_disease & has_smoked)\n",
    "\n",
    "# Variable taken from step above\n",
    "# total_stroke_patients = sum(has_stroke)"
   ]
  },
  {
   "cell_type": "code",
   "execution_count": 566,
   "id": "9cc9305a",
   "metadata": {},
   "outputs": [
    {
     "data": {
      "text/plain": [
       "26.5"
      ]
     },
     "execution_count": 566,
     "metadata": {},
     "output_type": "execute_result"
    }
   ],
   "source": [
    "# Percentage of individuals with a stroke and HTN\n",
    "htn_stroke_percentage = round((htn_stroke / total_stroke_patients) * 100, 1)\n",
    "htn_stroke_percentage"
   ]
  },
  {
   "cell_type": "code",
   "execution_count": 569,
   "id": "a45602c1",
   "metadata": {},
   "outputs": [
    {
     "data": {
      "text/plain": [
       "18.9"
      ]
     },
     "execution_count": 569,
     "metadata": {},
     "output_type": "execute_result"
    }
   ],
   "source": [
    "# Percentage of individuals with a stroke and Heart Disease\n",
    "heart_disease_stroke_percentage = round((heart_disease_stroke / total_stroke_patients) * 100, 1)\n",
    "heart_disease_stroke_percentage"
   ]
  },
  {
   "cell_type": "code",
   "execution_count": 570,
   "id": "d1448760",
   "metadata": {},
   "outputs": [
    {
     "data": {
      "text/plain": [
       "45.0"
      ]
     },
     "execution_count": 570,
     "metadata": {},
     "output_type": "execute_result"
    }
   ],
   "source": [
    "# Percentage of individuals with a stroke and smoking history\n",
    "smoking_stroke_percentage = round((smoking_stroke / total_stroke_patients) * 100, 1)\n",
    "smoking_stroke_percentage"
   ]
  },
  {
   "cell_type": "code",
   "execution_count": 571,
   "id": "76c4862f",
   "metadata": {
    "scrolled": false
   },
   "outputs": [
    {
     "data": {
      "text/plain": [
       "14.5"
      ]
     },
     "execution_count": 571,
     "metadata": {},
     "output_type": "execute_result"
    }
   ],
   "source": [
    "# Percentage of individuals with all 3: HTN, heart disease, and smoking history\n",
    "trifecta_stroke_percentage = round((trifecta_stroke / total_stroke_patients) * 100, 1)\n",
    "trifecta_stroke_percentage"
   ]
  },
  {
   "cell_type": "code",
   "execution_count": 592,
   "id": "d3dce34b",
   "metadata": {
    "scrolled": true
   },
   "outputs": [
    {
     "name": "stdout",
     "output_type": "stream",
     "text": [
      "<class 'pandas.core.frame.DataFrame'>\n",
      "RangeIndex: 5110 entries, 0 to 5109\n",
      "Data columns (total 11 columns):\n",
      " #   Column          Non-Null Count  Dtype   \n",
      "---  ------          --------------  -----   \n",
      " 0   gender          5110 non-null   category\n",
      " 1   age             5110 non-null   int64   \n",
      " 2   hypertension    5110 non-null   string  \n",
      " 3   heart disease   5110 non-null   string  \n",
      " 4   ever married    5110 non-null   category\n",
      " 5   occupation      5110 non-null   category\n",
      " 6   residence       5110 non-null   category\n",
      " 7   avg glucose     5110 non-null   float64 \n",
      " 8   bmi             4909 non-null   float64 \n",
      " 9   smoking status  5110 non-null   category\n",
      " 10  stroke          5110 non-null   string  \n",
      "dtypes: category(5), float64(2), int64(1), string(3)\n",
      "memory usage: 265.4 KB\n"
     ]
    }
   ],
   "source": [
    "stroke_data.info()"
   ]
  },
  {
   "cell_type": "code",
   "execution_count": 593,
   "id": "926e42a6",
   "metadata": {},
   "outputs": [
    {
     "data": {
      "text/plain": [
       "Urban    2596\n",
       "Rural    2514\n",
       "Name: residence, dtype: int64"
      ]
     },
     "execution_count": 593,
     "metadata": {},
     "output_type": "execute_result"
    }
   ],
   "source": [
    "stroke_data['residence'].value_counts()"
   ]
  },
  {
   "cell_type": "code",
   "execution_count": 598,
   "id": "b64ec972",
   "metadata": {},
   "outputs": [],
   "source": [
    "#What is the difference in average stroke rate between individuals over 65 \n",
    "#who live in urban areas vs those who live in rural areas? \n",
    "over_65 = stroke_data['age'] > 65\n",
    "is_rural = stroke_data['residence'] == 'Rural'\n",
    "is_urban = stroke_data['residence'] == 'Urban'\n",
    "\n",
    "rural_65 = sum(has_stroke & over_65 & is_rural)\n",
    "urban_65 = sum(has_stroke & over_65 & is_urban)\n",
    "\n",
    "rural_65_percentage = round((rural_65 / total_stroke_patients) * 100, 1)\n",
    "urban_65_percentage = round((urban_65 / total_stroke_patients) * 100, 1)"
   ]
  },
  {
   "cell_type": "code",
   "execution_count": 602,
   "id": "beaf6503",
   "metadata": {},
   "outputs": [
    {
     "data": {
      "text/plain": [
       "28.5"
      ]
     },
     "execution_count": 602,
     "metadata": {},
     "output_type": "execute_result"
    }
   ],
   "source": [
    "#Percentage of stroke patients living in rural areas\n",
    "rural_65_percentage"
   ]
  },
  {
   "cell_type": "code",
   "execution_count": 601,
   "id": "535a6683",
   "metadata": {
    "scrolled": true
   },
   "outputs": [
    {
     "data": {
      "text/plain": [
       "34.1"
      ]
     },
     "execution_count": 601,
     "metadata": {},
     "output_type": "execute_result"
    }
   ],
   "source": [
    "#Percentage of stroke patients living in urban areas\n",
    "urban_65_percentage"
   ]
  },
  {
   "cell_type": "code",
   "execution_count": 615,
   "id": "83bf9ab8",
   "metadata": {},
   "outputs": [
    {
     "data": {
      "text/plain": [
       "5.6"
      ]
     },
     "execution_count": 615,
     "metadata": {},
     "output_type": "execute_result"
    }
   ],
   "source": [
    "round((urban_65_percentage - rural_65_percentage), 2)"
   ]
  }
 ],
 "metadata": {
  "kernelspec": {
   "display_name": "Python 3 (ipykernel)",
   "language": "python",
   "name": "python3"
  },
  "language_info": {
   "codemirror_mode": {
    "name": "ipython",
    "version": 3
   },
   "file_extension": ".py",
   "mimetype": "text/x-python",
   "name": "python",
   "nbconvert_exporter": "python",
   "pygments_lexer": "ipython3",
   "version": "3.11.4"
  }
 },
 "nbformat": 4,
 "nbformat_minor": 5
}
